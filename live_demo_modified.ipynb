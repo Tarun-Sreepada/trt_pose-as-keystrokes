import json
import trt_pose.coco
import torch
from torch2trt import TRTModule

with open('human_pose.json', 'r') as f:
    human_pose = json.load(f)

topology = trt_pose.coco.coco_category_to_topology(human_pose)

WIDTH = 224
HEIGHT = 224

data = torch.zeros((1, 3, HEIGHT, WIDTH)).cuda()

OPTIMIZED_MODEL = 'resnet18_baseline_att_224x224_A_epoch_249_trt.pth'

model_trt = TRTModule()
model_trt.load_state_dict(torch.load(OPTIMIZED_MODEL))


import time

t0 = time.time()
torch.cuda.current_stream().synchronize()
for i in range(50):
    y = model_trt(data)
torch.cuda.current_stream().synchronize()
t1 = time.time()

print(50.0 / (t1 - t0))	


import cv2
import torchvision.transforms as transforms
import PIL.Image

mean = torch.Tensor([0.485, 0.456, 0.406]).cuda()
std = torch.Tensor([0.229, 0.224, 0.225]).cuda()
device = torch.device('cuda')

def preprocess(image):
    global device
    device = torch.device('cuda')
    image = cv2.cvtColor(image, cv2.COLOR_BGR2RGB)
    image = PIL.Image.fromarray(image)
    image = transforms.functional.to_tensor(image).to(device)
    image.sub_(mean[:, None, None]).div_(std[:, None, None])
    return image[None, ...]
	
	
from trt_pose.draw_objects import DrawObjects
from trt_pose.parse_objects import ParseObjects

parse_objects = ParseObjects(topology)
draw_objects = DrawObjects(topology)


from jetcam.usb_camera import USBCamera
# from jetcam.csi_camera import CSICamera
from jetcam.utils import bgr8_to_jpeg

camera = USBCamera(width=WIDTH, height=HEIGHT, capture_fps=30)
# camera = CSICamera(width=WIDTH, height=HEIGHT, capture_fps=30)

camera.running = True


import ipywidgets
from IPython.display import display

image_w = ipywidgets.Image(format='jpeg')

display(image_w)


import sys
import time
import Jetson.GPIO as GPIO

WSPIN = 4
ADPIN = 5
INT1PIN = 6
INT2PIN = 12
UPDOWNPIN = 13
LEFTRIGHTPIN = 16

GPIO.setwarnings(False)
GPIO.setmode( GPIO.BCM )
GPIO.setup( WSPIN, GPIO.OUT )
GPIO.setup( ADPIN, GPIO.OUT )
GPIO.setup( INT1PIN, GPIO.OUT )
GPIO.setup( INT2PIN, GPIO.OUT )
GPIO.setup( UPDOWNPIN, GPIO.OUT )
GPIO.setup( LEFTRIGHTPIN, GPIO.OUT )

lxo = 100
lyo = 100
rxo = 200
ryo = 100

def execute(change):
    
    sys.stdout.flush()
    
    margin = 5
    
    global lxo, lyo, rxo, ryo
    
    image = change['new']
    data = preprocess(image)
    cmap, paf = model_trt(data)
    cmap, paf = cmap.detach().cpu(), paf.detach().cpu()
    counts, objects, peaks = parse_objects(cmap, paf)#, cmap_threshold=0.15, link_threshold=0.15)
    draw_objects(image, counts, objects, peaks)
    image_w.value = bgr8_to_jpeg(image[:, ::-1, :])
    
    
    #i dont know how to get the values from the draw-objects.py so i just grabbed the code and ran it below
    height = image.shape[0]
    width = image.shape[1]
    count = int(counts[0])
    K = topology.shape[0]
    
    for i in range(count):
        obj = objects[0][i]
        C = obj.shape[0]
        for j in range(C):
            k = int(obj[j])
            if k >= 0:
                peak = peaks[0][j][k]
                x = round(float(peak[1]) * width)
                y = round(float(peak[0]) * height)
                #sys.stdout.write("\r%d %d %d\n" % (j, x, y))
                #sys.stdout.flush()
                
                # (hand-axis-origin/update)
                # lxo, lyo, lyn, lxn, rxo, ryo, rxn, ryn
                # if (9 or 10 (left or right wrists)) get values and assign to new
                # all new values compared against old, if greater (add margin to not spam inputs)
            
                if(j == 9):
                        lxn = x
                        lyn = y
                                            
                        if(lyn > lyo + margin):
                            #print("DOWN left")
                            timething = abs(lyn - lyo)
                            timething = timething / 125
                            
                            GPIO.output( INT1PIN, True )
                            GPIO.output( WSPIN, False )
                            time.sleep(timething)
                            GPIO.output( INT1PIN, False )
                        if(lyn < lyo - margin):
                            #print("UP left")
                            timething = abs(lyn - lyo)
                            timething = timething / 125
                            
                            GPIO.output( INT1PIN, True )
                            GPIO.output( WSPIN, True )
                            time.sleep(timething)
                            GPIO.output( INT1PIN, False )
                        if(lxn > lxo + margin):
                            #print("LEFT left")
                            timething = abs(lxn - lxo)
                            timething = timething / 125
                            
                            GPIO.output( INT1PIN, True )
                            GPIO.output( ADPIN, True )
                            time.sleep(timething)
                            GPIO.output( INT1PIN, False )
                        if(lxn < lxo - margin):
                            #print("RIGHT left")
                            timething = abs(lxn - lxo)
                            timething = timething / 125
                            
                            GPIO.output( INT1PIN, True )
                            GPIO.output( ADPIN, False )
                            time.sleep(timething)
                            GPIO.output( INT1PIN, False )
                        lxo = lxn
                        lyo = lyn
                        
                        
                if(j == 10):
                        rxn = x
                        ryn = y
                        
                        if(ryn > ryo + margin):
                            #print("DOWN right")
                            timething = abs(ryn - ryo)
                            timething = timething / 125
                            
                            GPIO.output( INT2PIN, True )
                            GPIO.output( UPDOWNPIN, False )
                            time.sleep(timething)
                            GPIO.output( INT2PIN, False )
                        if(ryn < ryo - margin):
                            #print("UP right")
                            timething = abs(ryn - ryo)
                            timething = timething / 125
                            
                            GPIO.output( INT2PIN, True )
                            GPIO.output( UPDOWNPIN, True )
                            time.sleep(timething)
                            GPIO.output( INT2PIN, False )
                        if(rxn > rxo + margin):
                            #print("LEFT right")
                            timething = abs(rxn - rxo)
                            timething = timething / 125
                            
                            GPIO.output( INT2PIN, True )
                            GPIO.output( LEFTRIGHTPIN, True )
                            time.sleep(timething)
                            GPIO.output( INT2PIN, False )
                        if(rxn < rxo - margin):
                            #print("RIGHT right")
                            timething = abs(rxn - rxo)
                            timething = timething / 125
                            
                            GPIO.output( INT2PIN, True )
                            GPIO.output( LEFTRIGHTPIN, False )
                            time.sleep(timething)
                            GPIO.output( INT2PIN, False )
                        rxo = rxn
                        ryo = ryn
                        
    time.sleep(0.07)
	
	
camera.observe(execute,'value')